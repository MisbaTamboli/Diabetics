{
 "cells": [
  {
   "cell_type": "markdown",
   "id": "f19ab91c",
   "metadata": {},
   "source": [
    "# Dibetic dataset"
   ]
  },
  {
   "cell_type": "code",
   "execution_count": 1,
   "id": "45bd1c7d",
   "metadata": {},
   "outputs": [],
   "source": [
    "import numpy as np\n",
    "import pandas as pd\n",
    "import seaborn as sns\n",
    "import matplotlib.pyplot as plt\n",
    "from sklearn.linear_model import LogisticRegression\n",
    "from sklearn.model_selection import train_test_split\n",
    "\n",
    "from sklearn.metrics import accuracy_score, precision_score, recall_score, f1_score\n",
    "from sklearn.metrics import classification_report, confusion_matrix\n",
    "from sklearn.metrics import plot_confusion_matrix\n",
    "from sklearn.metrics import roc_curve\n",
    "from sklearn.metrics import auc\n",
    "import warnings\n",
    "warnings.filterwarnings(\"ignore\")\n",
    "\n",
    "\n",
    "\n",
    "import pickle\n",
    "import json\n"
   ]
  },
  {
   "cell_type": "markdown",
   "id": "03dbf725",
   "metadata": {},
   "source": [
    "# 1-problem statement"
   ]
  },
  {
   "cell_type": "code",
   "execution_count": null,
   "id": "2213d4ab",
   "metadata": {},
   "outputs": [],
   "source": []
  },
  {
   "cell_type": "markdown",
   "id": "9e21001d",
   "metadata": {},
   "source": [
    "# 2- Data Gathering"
   ]
  },
  {
   "cell_type": "code",
   "execution_count": 2,
   "id": "3ec4f795",
   "metadata": {},
   "outputs": [
    {
     "data": {
      "text/html": [
       "<div>\n",
       "<style scoped>\n",
       "    .dataframe tbody tr th:only-of-type {\n",
       "        vertical-align: middle;\n",
       "    }\n",
       "\n",
       "    .dataframe tbody tr th {\n",
       "        vertical-align: top;\n",
       "    }\n",
       "\n",
       "    .dataframe thead th {\n",
       "        text-align: right;\n",
       "    }\n",
       "</style>\n",
       "<table border=\"1\" class=\"dataframe\">\n",
       "  <thead>\n",
       "    <tr style=\"text-align: right;\">\n",
       "      <th></th>\n",
       "      <th>Glucose</th>\n",
       "      <th>BloodPressure</th>\n",
       "      <th>SkinThickness</th>\n",
       "      <th>Insulin</th>\n",
       "      <th>BMI</th>\n",
       "      <th>DiabetesPedigreeFunction</th>\n",
       "      <th>Age</th>\n",
       "      <th>Outcome</th>\n",
       "    </tr>\n",
       "  </thead>\n",
       "  <tbody>\n",
       "    <tr>\n",
       "      <th>0</th>\n",
       "      <td>148</td>\n",
       "      <td>50</td>\n",
       "      <td>35</td>\n",
       "      <td>0</td>\n",
       "      <td>33.6</td>\n",
       "      <td>0.627</td>\n",
       "      <td>50</td>\n",
       "      <td>1</td>\n",
       "    </tr>\n",
       "    <tr>\n",
       "      <th>1</th>\n",
       "      <td>85</td>\n",
       "      <td>66</td>\n",
       "      <td>29</td>\n",
       "      <td>0</td>\n",
       "      <td>26.6</td>\n",
       "      <td>0.351</td>\n",
       "      <td>31</td>\n",
       "      <td>0</td>\n",
       "    </tr>\n",
       "    <tr>\n",
       "      <th>2</th>\n",
       "      <td>183</td>\n",
       "      <td>64</td>\n",
       "      <td>0</td>\n",
       "      <td>0</td>\n",
       "      <td>23.3</td>\n",
       "      <td>0.672</td>\n",
       "      <td>52</td>\n",
       "      <td>1</td>\n",
       "    </tr>\n",
       "    <tr>\n",
       "      <th>3</th>\n",
       "      <td>150</td>\n",
       "      <td>66</td>\n",
       "      <td>23</td>\n",
       "      <td>94</td>\n",
       "      <td>28.1</td>\n",
       "      <td>0.167</td>\n",
       "      <td>21</td>\n",
       "      <td>0</td>\n",
       "    </tr>\n",
       "    <tr>\n",
       "      <th>4</th>\n",
       "      <td>150</td>\n",
       "      <td>40</td>\n",
       "      <td>35</td>\n",
       "      <td>168</td>\n",
       "      <td>43.1</td>\n",
       "      <td>2.288</td>\n",
       "      <td>33</td>\n",
       "      <td>1</td>\n",
       "    </tr>\n",
       "    <tr>\n",
       "      <th>...</th>\n",
       "      <td>...</td>\n",
       "      <td>...</td>\n",
       "      <td>...</td>\n",
       "      <td>...</td>\n",
       "      <td>...</td>\n",
       "      <td>...</td>\n",
       "      <td>...</td>\n",
       "      <td>...</td>\n",
       "    </tr>\n",
       "    <tr>\n",
       "      <th>763</th>\n",
       "      <td>101</td>\n",
       "      <td>76</td>\n",
       "      <td>48</td>\n",
       "      <td>180</td>\n",
       "      <td>32.9</td>\n",
       "      <td>0.171</td>\n",
       "      <td>63</td>\n",
       "      <td>0</td>\n",
       "    </tr>\n",
       "    <tr>\n",
       "      <th>764</th>\n",
       "      <td>122</td>\n",
       "      <td>70</td>\n",
       "      <td>27</td>\n",
       "      <td>0</td>\n",
       "      <td>36.8</td>\n",
       "      <td>0.340</td>\n",
       "      <td>27</td>\n",
       "      <td>0</td>\n",
       "    </tr>\n",
       "    <tr>\n",
       "      <th>765</th>\n",
       "      <td>121</td>\n",
       "      <td>72</td>\n",
       "      <td>23</td>\n",
       "      <td>112</td>\n",
       "      <td>26.2</td>\n",
       "      <td>0.245</td>\n",
       "      <td>30</td>\n",
       "      <td>0</td>\n",
       "    </tr>\n",
       "    <tr>\n",
       "      <th>766</th>\n",
       "      <td>126</td>\n",
       "      <td>60</td>\n",
       "      <td>0</td>\n",
       "      <td>0</td>\n",
       "      <td>30.1</td>\n",
       "      <td>0.349</td>\n",
       "      <td>47</td>\n",
       "      <td>1</td>\n",
       "    </tr>\n",
       "    <tr>\n",
       "      <th>767</th>\n",
       "      <td>93</td>\n",
       "      <td>70</td>\n",
       "      <td>31</td>\n",
       "      <td>0</td>\n",
       "      <td>30.4</td>\n",
       "      <td>0.315</td>\n",
       "      <td>23</td>\n",
       "      <td>0</td>\n",
       "    </tr>\n",
       "  </tbody>\n",
       "</table>\n",
       "<p>768 rows × 8 columns</p>\n",
       "</div>"
      ],
      "text/plain": [
       "     Glucose  BloodPressure  SkinThickness  Insulin   BMI  \\\n",
       "0        148             50             35        0  33.6   \n",
       "1         85             66             29        0  26.6   \n",
       "2        183             64              0        0  23.3   \n",
       "3        150             66             23       94  28.1   \n",
       "4        150             40             35      168  43.1   \n",
       "..       ...            ...            ...      ...   ...   \n",
       "763      101             76             48      180  32.9   \n",
       "764      122             70             27        0  36.8   \n",
       "765      121             72             23      112  26.2   \n",
       "766      126             60              0        0  30.1   \n",
       "767       93             70             31        0  30.4   \n",
       "\n",
       "     DiabetesPedigreeFunction  Age  Outcome  \n",
       "0                       0.627   50        1  \n",
       "1                       0.351   31        0  \n",
       "2                       0.672   52        1  \n",
       "3                       0.167   21        0  \n",
       "4                       2.288   33        1  \n",
       "..                        ...  ...      ...  \n",
       "763                     0.171   63        0  \n",
       "764                     0.340   27        0  \n",
       "765                     0.245   30        0  \n",
       "766                     0.349   47        1  \n",
       "767                     0.315   23        0  \n",
       "\n",
       "[768 rows x 8 columns]"
      ]
     },
     "execution_count": 2,
     "metadata": {},
     "output_type": "execute_result"
    }
   ],
   "source": [
    "df=pd.read_csv(\"diabetes.csv\")\n",
    "df"
   ]
  },
  {
   "cell_type": "markdown",
   "id": "58d685ec",
   "metadata": {},
   "source": [
    "# 3-Exploratory Data(EDA):"
   ]
  },
  {
   "cell_type": "code",
   "execution_count": 3,
   "id": "d91fa4ad",
   "metadata": {},
   "outputs": [
    {
     "name": "stdout",
     "output_type": "stream",
     "text": [
      "<class 'pandas.core.frame.DataFrame'>\n",
      "RangeIndex: 768 entries, 0 to 767\n",
      "Data columns (total 8 columns):\n",
      " #   Column                    Non-Null Count  Dtype  \n",
      "---  ------                    --------------  -----  \n",
      " 0   Glucose                   768 non-null    int64  \n",
      " 1   BloodPressure             768 non-null    int64  \n",
      " 2   SkinThickness             768 non-null    int64  \n",
      " 3   Insulin                   768 non-null    int64  \n",
      " 4   BMI                       768 non-null    float64\n",
      " 5   DiabetesPedigreeFunction  768 non-null    float64\n",
      " 6   Age                       768 non-null    int64  \n",
      " 7   Outcome                   768 non-null    int64  \n",
      "dtypes: float64(2), int64(6)\n",
      "memory usage: 48.1 KB\n"
     ]
    }
   ],
   "source": [
    "df.info()"
   ]
  },
  {
   "cell_type": "code",
   "execution_count": 4,
   "id": "9120392a",
   "metadata": {},
   "outputs": [
    {
     "data": {
      "text/plain": [
       "Glucose                     0\n",
       "BloodPressure               0\n",
       "SkinThickness               0\n",
       "Insulin                     0\n",
       "BMI                         0\n",
       "DiabetesPedigreeFunction    0\n",
       "Age                         0\n",
       "Outcome                     0\n",
       "dtype: int64"
      ]
     },
     "execution_count": 4,
     "metadata": {},
     "output_type": "execute_result"
    }
   ],
   "source": [
    "df.isna().sum()"
   ]
  },
  {
   "cell_type": "code",
   "execution_count": 5,
   "id": "c76659a3",
   "metadata": {},
   "outputs": [
    {
     "data": {
      "text/plain": [
       "0      148\n",
       "1       85\n",
       "2      183\n",
       "3      150\n",
       "4      150\n",
       "      ... \n",
       "763    101\n",
       "764    122\n",
       "765    121\n",
       "766    126\n",
       "767     93\n",
       "Name: Glucose, Length: 768, dtype: int64"
      ]
     },
     "execution_count": 5,
     "metadata": {},
     "output_type": "execute_result"
    }
   ],
   "source": [
    "df[\"Glucose\"]"
   ]
  },
  {
   "cell_type": "code",
   "execution_count": 6,
   "id": "6265788e",
   "metadata": {},
   "outputs": [
    {
     "data": {
      "text/plain": [
       "100    17\n",
       "99     17\n",
       "150    15\n",
       "106    14\n",
       "129    14\n",
       "       ..\n",
       "44      1\n",
       "177     1\n",
       "191     1\n",
       "61      1\n",
       "190     1\n",
       "Name: Glucose, Length: 136, dtype: int64"
      ]
     },
     "execution_count": 6,
     "metadata": {},
     "output_type": "execute_result"
    }
   ],
   "source": [
    "df[\"Glucose\"].value_counts()"
   ]
  },
  {
   "cell_type": "code",
   "execution_count": 7,
   "id": "6d68bc7e",
   "metadata": {},
   "outputs": [
    {
     "data": {
      "text/plain": [
       "<AxesSubplot:xlabel='Glucose'>"
      ]
     },
     "execution_count": 7,
     "metadata": {},
     "output_type": "execute_result"
    },
    {
     "data": {
      "image/png": "[encoded data removed]",
      "text/plain": [
       "<Figure size 640x480 with 1 Axes>"
      ]
     },
     "metadata": {},
     "output_type": "display_data"
    }
   ],
   "source": [
    "sns.boxplot(x=df[\"Glucose\"])"
   ]
  },
  {
   "cell_type": "markdown",
   "id": "b731735e",
   "metadata": {},
   "source": [
    "# 3-Feature Engineering"
   ]
  },
  {
   "cell_type": "code",
   "execution_count": 8,
   "id": "b408f8b1",
   "metadata": {},
   "outputs": [
    {
     "data": {
      "text/plain": [
       "<AxesSubplot:xlabel='Glucose'>"
      ]
     },
     "execution_count": 8,
     "metadata": {},
     "output_type": "execute_result"
    },
    {
     "data": {
      "image/png": "[encoded data removed]",
      "text/plain": [
       "<Figure size 640x480 with 1 Axes>"
      ]
     },
     "metadata": {},
     "output_type": "display_data"
    }
   ],
   "source": [
    "sns.boxplot(x=df[\"Glucose\"])"
   ]
  },
  {
   "cell_type": "code",
   "execution_count": 9,
   "id": "562b3d6a",
   "metadata": {},
   "outputs": [
    {
     "name": "stdout",
     "output_type": "stream",
     "text": [
      "Q1 : 99.0\n",
      "Q2 : 117.0\n",
      "Q3 : 142.0\n",
      "Median : 117.0\n",
      "upper_tail : 206.5\n",
      "lower_tail : 34.5\n"
     ]
    }
   ],
   "source": [
    "q1 = df['Glucose'].quantile(0.25)\n",
    "q2 = df['Glucose'].quantile(0.50)\n",
    "q3 = df['Glucose'].quantile(0.75)\n",
    "median = df['Glucose'].median()\n",
    "\n",
    "iqr = q3 - q1\n",
    "\n",
    "upper_tail = q3 + 1.5 * iqr\n",
    "lower_tail = q1 - 1.5 * iqr\n",
    "\n",
    "print(\"Q1 :\", q1)\n",
    "print(\"Q2 :\", q2)\n",
    "print(\"Q3 :\", q3)\n",
    "print(\"Median :\",median)\n",
    "\n",
    "print(\"upper_tail :\", upper_tail)\n",
    "print(\"lower_tail :\", lower_tail)"
   ]
  },
  {
   "cell_type": "code",
   "execution_count": 10,
   "id": "0ad6c0ae",
   "metadata": {},
   "outputs": [
    {
     "data": {
      "text/html": [
       "<div>\n",
       "<style scoped>\n",
       "    .dataframe tbody tr th:only-of-type {\n",
       "        vertical-align: middle;\n",
       "    }\n",
       "\n",
       "    .dataframe tbody tr th {\n",
       "        vertical-align: top;\n",
       "    }\n",
       "\n",
       "    .dataframe thead th {\n",
       "        text-align: right;\n",
       "    }\n",
       "</style>\n",
       "<table border=\"1\" class=\"dataframe\">\n",
       "  <thead>\n",
       "    <tr style=\"text-align: right;\">\n",
       "      <th></th>\n",
       "      <th>Glucose</th>\n",
       "    </tr>\n",
       "  </thead>\n",
       "  <tbody>\n",
       "    <tr>\n",
       "      <th>75</th>\n",
       "      <td>0</td>\n",
       "    </tr>\n",
       "    <tr>\n",
       "      <th>182</th>\n",
       "      <td>0</td>\n",
       "    </tr>\n",
       "    <tr>\n",
       "      <th>342</th>\n",
       "      <td>0</td>\n",
       "    </tr>\n",
       "    <tr>\n",
       "      <th>349</th>\n",
       "      <td>0</td>\n",
       "    </tr>\n",
       "    <tr>\n",
       "      <th>502</th>\n",
       "      <td>0</td>\n",
       "    </tr>\n",
       "  </tbody>\n",
       "</table>\n",
       "</div>"
      ],
      "text/plain": [
       "     Glucose\n",
       "75         0\n",
       "182        0\n",
       "342        0\n",
       "349        0\n",
       "502        0"
      ]
     },
     "execution_count": 10,
     "metadata": {},
     "output_type": "execute_result"
    }
   ],
   "source": [
    "df[['Glucose']].loc[df['Glucose'] < lower_tail]"
   ]
  },
  {
   "cell_type": "code",
   "execution_count": 11,
   "id": "0fb36f63",
   "metadata": {},
   "outputs": [
    {
     "data": {
      "text/html": [
       "<div>\n",
       "<style scoped>\n",
       "    .dataframe tbody tr th:only-of-type {\n",
       "        vertical-align: middle;\n",
       "    }\n",
       "\n",
       "    .dataframe tbody tr th {\n",
       "        vertical-align: top;\n",
       "    }\n",
       "\n",
       "    .dataframe thead th {\n",
       "        text-align: right;\n",
       "    }\n",
       "</style>\n",
       "<table border=\"1\" class=\"dataframe\">\n",
       "  <thead>\n",
       "    <tr style=\"text-align: right;\">\n",
       "      <th></th>\n",
       "      <th>Glucose</th>\n",
       "    </tr>\n",
       "  </thead>\n",
       "  <tbody>\n",
       "  </tbody>\n",
       "</table>\n",
       "</div>"
      ],
      "text/plain": [
       "Empty DataFrame\n",
       "Columns: [Glucose]\n",
       "Index: []"
      ]
     },
     "execution_count": 11,
     "metadata": {},
     "output_type": "execute_result"
    }
   ],
   "source": [
    "df[['Glucose']].loc[df['Glucose'] > upper_tail]"
   ]
  },
  {
   "cell_type": "code",
   "execution_count": 12,
   "id": "20bae7c7",
   "metadata": {},
   "outputs": [
    {
     "data": {
      "text/plain": [
       "118.0"
      ]
     },
     "execution_count": 12,
     "metadata": {},
     "output_type": "execute_result"
    }
   ],
   "source": [
    "median = df['Glucose'].loc[(df['Glucose'] <= upper_tail) & (df['Glucose'] >= lower_tail)].median()\n",
    "median"
   ]
  },
  {
   "cell_type": "code",
   "execution_count": 13,
   "id": "5216dcc5",
   "metadata": {},
   "outputs": [
    {
     "data": {
      "text/html": [
       "<div>\n",
       "<style scoped>\n",
       "    .dataframe tbody tr th:only-of-type {\n",
       "        vertical-align: middle;\n",
       "    }\n",
       "\n",
       "    .dataframe tbody tr th {\n",
       "        vertical-align: top;\n",
       "    }\n",
       "\n",
       "    .dataframe thead th {\n",
       "        text-align: right;\n",
       "    }\n",
       "</style>\n",
       "<table border=\"1\" class=\"dataframe\">\n",
       "  <thead>\n",
       "    <tr style=\"text-align: right;\">\n",
       "      <th></th>\n",
       "      <th>Glucose</th>\n",
       "      <th>BloodPressure</th>\n",
       "      <th>SkinThickness</th>\n",
       "      <th>Insulin</th>\n",
       "      <th>BMI</th>\n",
       "      <th>DiabetesPedigreeFunction</th>\n",
       "      <th>Age</th>\n",
       "      <th>Outcome</th>\n",
       "    </tr>\n",
       "  </thead>\n",
       "  <tbody>\n",
       "    <tr>\n",
       "      <th>75</th>\n",
       "      <td>0</td>\n",
       "      <td>48</td>\n",
       "      <td>20</td>\n",
       "      <td>0</td>\n",
       "      <td>24.7</td>\n",
       "      <td>0.140</td>\n",
       "      <td>22</td>\n",
       "      <td>0</td>\n",
       "    </tr>\n",
       "    <tr>\n",
       "      <th>182</th>\n",
       "      <td>0</td>\n",
       "      <td>74</td>\n",
       "      <td>20</td>\n",
       "      <td>23</td>\n",
       "      <td>27.7</td>\n",
       "      <td>0.299</td>\n",
       "      <td>21</td>\n",
       "      <td>0</td>\n",
       "    </tr>\n",
       "    <tr>\n",
       "      <th>342</th>\n",
       "      <td>0</td>\n",
       "      <td>68</td>\n",
       "      <td>35</td>\n",
       "      <td>0</td>\n",
       "      <td>32.0</td>\n",
       "      <td>0.389</td>\n",
       "      <td>22</td>\n",
       "      <td>0</td>\n",
       "    </tr>\n",
       "    <tr>\n",
       "      <th>349</th>\n",
       "      <td>0</td>\n",
       "      <td>80</td>\n",
       "      <td>32</td>\n",
       "      <td>0</td>\n",
       "      <td>41.0</td>\n",
       "      <td>0.346</td>\n",
       "      <td>37</td>\n",
       "      <td>1</td>\n",
       "    </tr>\n",
       "    <tr>\n",
       "      <th>502</th>\n",
       "      <td>0</td>\n",
       "      <td>68</td>\n",
       "      <td>41</td>\n",
       "      <td>0</td>\n",
       "      <td>39.0</td>\n",
       "      <td>0.727</td>\n",
       "      <td>41</td>\n",
       "      <td>1</td>\n",
       "    </tr>\n",
       "  </tbody>\n",
       "</table>\n",
       "</div>"
      ],
      "text/plain": [
       "     Glucose  BloodPressure  SkinThickness  Insulin   BMI  \\\n",
       "75         0             48             20        0  24.7   \n",
       "182        0             74             20       23  27.7   \n",
       "342        0             68             35        0  32.0   \n",
       "349        0             80             32        0  41.0   \n",
       "502        0             68             41        0  39.0   \n",
       "\n",
       "     DiabetesPedigreeFunction  Age  Outcome  \n",
       "75                      0.140   22        0  \n",
       "182                     0.299   21        0  \n",
       "342                     0.389   22        0  \n",
       "349                     0.346   37        1  \n",
       "502                     0.727   41        1  "
      ]
     },
     "execution_count": 13,
     "metadata": {},
     "output_type": "execute_result"
    }
   ],
   "source": [
    "df.loc[df['Glucose'] <= lower_tail]"
   ]
  },
  {
   "cell_type": "code",
   "execution_count": 14,
   "id": "890220cd",
   "metadata": {},
   "outputs": [],
   "source": [
    "df.loc[df['Glucose'] < lower_tail, 'Glucose'] = lower_tail"
   ]
  },
  {
   "cell_type": "code",
   "execution_count": 15,
   "id": "2585fc52",
   "metadata": {},
   "outputs": [
    {
     "data": {
      "text/html": [
       "<div>\n",
       "<style scoped>\n",
       "    .dataframe tbody tr th:only-of-type {\n",
       "        vertical-align: middle;\n",
       "    }\n",
       "\n",
       "    .dataframe tbody tr th {\n",
       "        vertical-align: top;\n",
       "    }\n",
       "\n",
       "    .dataframe thead th {\n",
       "        text-align: right;\n",
       "    }\n",
       "</style>\n",
       "<table border=\"1\" class=\"dataframe\">\n",
       "  <thead>\n",
       "    <tr style=\"text-align: right;\">\n",
       "      <th></th>\n",
       "      <th>Glucose</th>\n",
       "      <th>BloodPressure</th>\n",
       "      <th>SkinThickness</th>\n",
       "      <th>Insulin</th>\n",
       "      <th>BMI</th>\n",
       "      <th>DiabetesPedigreeFunction</th>\n",
       "      <th>Age</th>\n",
       "      <th>Outcome</th>\n",
       "    </tr>\n",
       "  </thead>\n",
       "  <tbody>\n",
       "  </tbody>\n",
       "</table>\n",
       "</div>"
      ],
      "text/plain": [
       "Empty DataFrame\n",
       "Columns: [Glucose, BloodPressure, SkinThickness, Insulin, BMI, DiabetesPedigreeFunction, Age, Outcome]\n",
       "Index: []"
      ]
     },
     "execution_count": 15,
     "metadata": {},
     "output_type": "execute_result"
    }
   ],
   "source": [
    "df.loc[df['Glucose'] < lower_tail]"
   ]
  },
  {
   "cell_type": "code",
   "execution_count": 16,
   "id": "9b1bb5b2",
   "metadata": {},
   "outputs": [
    {
     "data": {
      "text/plain": [
       "<AxesSubplot:xlabel='Glucose'>"
      ]
     },
     "execution_count": 16,
     "metadata": {},
     "output_type": "execute_result"
    },
    {
     "data": {
      "image/png": "[encoded data removed]",
      "text/plain": [
       "<Figure size 640x480 with 1 Axes>"
      ]
     },
     "metadata": {},
     "output_type": "display_data"
    }
   ],
   "source": [
    "sns.boxplot(x=df[\"Glucose\"])"
   ]
  },
  {
   "cell_type": "markdown",
   "id": "2c85416b",
   "metadata": {},
   "source": [
    "### 2-BloodPressure"
   ]
  },
  {
   "cell_type": "code",
   "execution_count": 17,
   "id": "5e4c6f7f",
   "metadata": {},
   "outputs": [
    {
     "data": {
      "text/plain": [
       "<AxesSubplot:xlabel='BloodPressure'>"
      ]
     },
     "execution_count": 17,
     "metadata": {},
     "output_type": "execute_result"
    },
    {
     "data": {
      "image/png": "[encoded data removed]",
      "text/plain": [
       "<Figure size 640x480 with 1 Axes>"
      ]
     },
     "metadata": {},
     "output_type": "display_data"
    }
   ],
   "source": [
    "sns.boxplot(x=df[\"BloodPressure\"])"
   ]
  },
  {
   "cell_type": "code",
   "execution_count": 18,
   "id": "3b2f7a4b",
   "metadata": {},
   "outputs": [
    {
     "name": "stdout",
     "output_type": "stream",
     "text": [
      "Q1 : 62.0\n",
      "Q2 : 72.0\n",
      "Q3 : 80.0\n",
      "Median : 72.0\n",
      "upper_tail : 107.0\n",
      "lower_tail : 35.0\n"
     ]
    }
   ],
   "source": [
    "q1 = df['BloodPressure'].quantile(0.25)\n",
    "q2 = df['BloodPressure'].quantile(0.50)\n",
    "q3 = df['BloodPressure'].quantile(0.75)\n",
    "median = df['BloodPressure'].median()\n",
    "\n",
    "iqr = q3 - q1\n",
    "\n",
    "upper_tail = q3 + 1.5 * iqr\n",
    "lower_tail = q1 - 1.5 * iqr\n",
    "\n",
    "print(\"Q1 :\", q1)\n",
    "print(\"Q2 :\", q2)\n",
    "print(\"Q3 :\", q3)\n",
    "print(\"Median :\",median)\n",
    "\n",
    "print(\"upper_tail :\", upper_tail)\n",
    "print(\"lower_tail :\", lower_tail)"
   ]
  },
  {
   "cell_type": "code",
   "execution_count": 19,
   "id": "0caf36c9",
   "metadata": {},
   "outputs": [
    {
     "data": {
      "text/plain": [
       "72.0"
      ]
     },
     "execution_count": 19,
     "metadata": {},
     "output_type": "execute_result"
    }
   ],
   "source": [
    "Median = df['BloodPressure'].loc[(df['BloodPressure'] <= upper_tail) & (df['BloodPressure'] >= lower_tail)].median()\n",
    "Median"
   ]
  },
  {
   "cell_type": "code",
   "execution_count": 20,
   "id": "8e8f013a",
   "metadata": {},
   "outputs": [],
   "source": [
    "df['BloodPressure'].loc[(df['BloodPressure'] > upper_tail) | (df['BloodPressure'] < lower_tail)]=Median"
   ]
  },
  {
   "cell_type": "code",
   "execution_count": 21,
   "id": "6461a31a",
   "metadata": {},
   "outputs": [
    {
     "data": {
      "text/plain": [
       "Series([], Name: BloodPressure, dtype: int64)"
      ]
     },
     "execution_count": 21,
     "metadata": {},
     "output_type": "execute_result"
    }
   ],
   "source": [
    "df['BloodPressure'].loc[(df['BloodPressure'] > upper_tail) | (df['BloodPressure'] < lower_tail)] "
   ]
  },
  {
   "cell_type": "code",
   "execution_count": 22,
   "id": "1f41cc6a",
   "metadata": {},
   "outputs": [
    {
     "data": {
      "text/plain": [
       "<AxesSubplot:xlabel='BloodPressure'>"
      ]
     },
     "execution_count": 22,
     "metadata": {},
     "output_type": "execute_result"
    },
    {
     "data": {
      "image/png": "[encoded data removed]",
      "text/plain": [
       "<Figure size 640x480 with 1 Axes>"
      ]
     },
     "metadata": {},
     "output_type": "display_data"
    }
   ],
   "source": [
    "sns.boxplot(x=df[\"BloodPressure\"])"
   ]
  },
  {
   "cell_type": "code",
   "execution_count": 23,
   "id": "56255ce8",
   "metadata": {},
   "outputs": [
    {
     "name": "stdout",
     "output_type": "stream",
     "text": [
      "Q1 : 64.0\n",
      "Q2 : 72.0\n",
      "Q3 : 80.0\n",
      "Median : 72.0\n",
      "upper_tail : 104.0\n",
      "lower_tail : 40.0\n"
     ]
    }
   ],
   "source": [
    "q1 = df['BloodPressure'].quantile(0.25)\n",
    "q2 = df['BloodPressure'].quantile(0.50)\n",
    "q3 = df['BloodPressure'].quantile(0.75)\n",
    "median = df['BloodPressure'].median()\n",
    "\n",
    "iqr = q3 - q1\n",
    "\n",
    "upper_tail = q3 + 1.5 * iqr\n",
    "lower_tail = q1 - 1.5 * iqr\n",
    "\n",
    "print(\"Q1 :\", q1)\n",
    "print(\"Q2 :\", q2)\n",
    "print(\"Q3 :\", q3)\n",
    "print(\"Median :\",median)\n",
    "\n",
    "print(\"upper_tail :\", upper_tail)\n",
    "print(\"lower_tail :\", lower_tail)"
   ]
  },
  {
   "cell_type": "code",
   "execution_count": 24,
   "id": "fae14235",
   "metadata": {},
   "outputs": [],
   "source": [
    "df.loc[df['BloodPressure'] < lower_tail, 'BloodPressure'] = lower_tail"
   ]
  },
  {
   "cell_type": "code",
   "execution_count": 25,
   "id": "64adf0a4",
   "metadata": {},
   "outputs": [],
   "source": [
    "df.loc[df['BloodPressure'] > upper_tail, 'BloodPressure'] = upper_tail"
   ]
  },
  {
   "cell_type": "code",
   "execution_count": 26,
   "id": "4e13b6f0",
   "metadata": {},
   "outputs": [
    {
     "data": {
      "text/plain": [
       "<AxesSubplot:xlabel='BloodPressure'>"
      ]
     },
     "execution_count": 26,
     "metadata": {},
     "output_type": "execute_result"
    },
    {
     "data": {
      "image/png": "[encoded data removed]",
      "text/plain": [
       "<Figure size 640x480 with 1 Axes>"
      ]
     },
     "metadata": {},
     "output_type": "display_data"
    }
   ],
   "source": [
    "sns.boxplot(x=df[\"BloodPressure\"])"
   ]
  },
  {
   "cell_type": "markdown",
   "id": "740397a6",
   "metadata": {},
   "source": [
    "### 3-SkinThickness"
   ]
  },
  {
   "cell_type": "code",
   "execution_count": 27,
   "id": "ce7186f6",
   "metadata": {},
   "outputs": [
    {
     "data": {
      "text/plain": [
       "<AxesSubplot:xlabel='SkinThickness'>"
      ]
     },
     "execution_count": 27,
     "metadata": {},
     "output_type": "execute_result"
    },
    {
     "data": {
      "image/png": "[encoded data removed]",
      "text/plain": [
       "<Figure size 640x480 with 1 Axes>"
      ]
     },
     "metadata": {},
     "output_type": "display_data"
    }
   ],
   "source": [
    "sns.boxplot(x=df[\"SkinThickness\"])"
   ]
  },
  {
   "cell_type": "code",
   "execution_count": 28,
   "id": "b50d2054",
   "metadata": {},
   "outputs": [
    {
     "name": "stdout",
     "output_type": "stream",
     "text": [
      "Q1 : 0.0\n",
      "Q2 : 23.0\n",
      "Q3 : 32.0\n",
      "Median : 23.0\n",
      "upper_tail : 80.0\n",
      "lower_tail : -48.0\n"
     ]
    }
   ],
   "source": [
    "q1 = df['SkinThickness'].quantile(0.25)\n",
    "q2 = df['SkinThickness'].quantile(0.50)\n",
    "q3 = df['SkinThickness'].quantile(0.75)\n",
    "median = df['SkinThickness'].median()\n",
    "\n",
    "iqr = q3 - q1\n",
    "\n",
    "upper_tail = q3 + 1.5 * iqr\n",
    "lower_tail = q1 - 1.5 * iqr\n",
    "\n",
    "print(\"Q1 :\", q1)\n",
    "print(\"Q2 :\", q2)\n",
    "print(\"Q3 :\", q3)\n",
    "print(\"Median :\",median)\n",
    "\n",
    "print(\"upper_tail :\", upper_tail)\n",
    "print(\"lower_tail :\", lower_tail)"
   ]
  },
  {
   "cell_type": "code",
   "execution_count": 29,
   "id": "f57b9a11",
   "metadata": {},
   "outputs": [
    {
     "data": {
      "text/plain": [
       "579    99\n",
       "Name: SkinThickness, dtype: int64"
      ]
     },
     "execution_count": 29,
     "metadata": {},
     "output_type": "execute_result"
    }
   ],
   "source": [
    "df['SkinThickness'].loc[(df['SkinThickness'] > upper_tail) | (df['SkinThickness'] < lower_tail)] "
   ]
  },
  {
   "cell_type": "code",
   "execution_count": 30,
   "id": "390e63b9",
   "metadata": {},
   "outputs": [],
   "source": [
    "df.loc[df['SkinThickness'] > upper_tail, 'SkinThickness'] = upper_tail"
   ]
  },
  {
   "cell_type": "code",
   "execution_count": 31,
   "id": "bec2f5e2",
   "metadata": {},
   "outputs": [
    {
     "data": {
      "text/plain": [
       "<AxesSubplot:xlabel='SkinThickness'>"
      ]
     },
     "execution_count": 31,
     "metadata": {},
     "output_type": "execute_result"
    },
    {
     "data": {
      "image/png": "[encoded data removed]",
      "text/plain": [
       "<Figure size 640x480 with 1 Axes>"
      ]
     },
     "metadata": {},
     "output_type": "display_data"
    }
   ],
   "source": [
    "sns.boxplot(x=df[\"SkinThickness\"])"
   ]
  },
  {
   "cell_type": "markdown",
   "id": "d398d60b",
   "metadata": {},
   "source": [
    "### 4-Insulin"
   ]
  },
  {
   "cell_type": "code",
   "execution_count": 32,
   "id": "bd063001",
   "metadata": {},
   "outputs": [
    {
     "data": {
      "text/plain": [
       "<AxesSubplot:xlabel='Insulin'>"
      ]
     },
     "execution_count": 32,
     "metadata": {},
     "output_type": "execute_result"
    },
    {
     "data": {
      "image/png": "[encoded data removed]",
      "text/plain": [
       "<Figure size 640x480 with 1 Axes>"
      ]
     },
     "metadata": {},
     "output_type": "display_data"
    }
   ],
   "source": [
    "sns.boxplot(x=df[\"Insulin\"])"
   ]
  },
  {
   "cell_type": "code",
   "execution_count": 33,
   "id": "dded8c5f",
   "metadata": {},
   "outputs": [
    {
     "name": "stdout",
     "output_type": "stream",
     "text": [
      "Q1 : 0.0\n",
      "Q2 : 30.5\n",
      "Q3 : 127.25\n",
      "Median : 30.5\n",
      "upper_tail : 318.125\n",
      "lower_tail : -190.875\n"
     ]
    }
   ],
   "source": [
    "q1 = df['Insulin'].quantile(0.25)\n",
    "q2 = df['Insulin'].quantile(0.50)\n",
    "q3 = df['Insulin'].quantile(0.75)\n",
    "median = df['Insulin'].median()\n",
    "\n",
    "iqr = q3 - q1\n",
    "\n",
    "upper_tail = q3 + 1.5 * iqr\n",
    "lower_tail = q1 - 1.5 * iqr\n",
    "\n",
    "print(\"Q1 :\", q1)\n",
    "print(\"Q2 :\", q2)\n",
    "print(\"Q3 :\", q3)\n",
    "print(\"Median :\",median)\n",
    "\n",
    "print(\"upper_tail :\", upper_tail)\n",
    "print(\"lower_tail :\", lower_tail)"
   ]
  },
  {
   "cell_type": "code",
   "execution_count": 34,
   "id": "cc0b76b1",
   "metadata": {},
   "outputs": [
    {
     "data": {
      "text/plain": [
       "8      543\n",
       "13     846\n",
       "54     342\n",
       "111    495\n",
       "139    325\n",
       "153    485\n",
       "186    495\n",
       "220    478\n",
       "228    744\n",
       "231    370\n",
       "247    680\n",
       "248    402\n",
       "258    375\n",
       "286    545\n",
       "296    360\n",
       "360    325\n",
       "370    465\n",
       "375    325\n",
       "392    415\n",
       "409    579\n",
       "415    474\n",
       "480    328\n",
       "486    480\n",
       "519    326\n",
       "574    330\n",
       "584    600\n",
       "612    321\n",
       "645    440\n",
       "655    540\n",
       "695    480\n",
       "707    335\n",
       "710    387\n",
       "715    392\n",
       "753    510\n",
       "Name: Insulin, dtype: int64"
      ]
     },
     "execution_count": 34,
     "metadata": {},
     "output_type": "execute_result"
    }
   ],
   "source": [
    "df['Insulin'].loc[(df['Insulin'] > upper_tail) | (df['Insulin'] < lower_tail)] "
   ]
  },
  {
   "cell_type": "code",
   "execution_count": 35,
   "id": "cc0cff4d",
   "metadata": {},
   "outputs": [],
   "source": [
    "df.loc[df['Insulin'] > upper_tail, 'Insulin'] = upper_tail"
   ]
  },
  {
   "cell_type": "code",
   "execution_count": 36,
   "id": "797fae20",
   "metadata": {},
   "outputs": [
    {
     "data": {
      "text/plain": [
       "<AxesSubplot:xlabel='Insulin'>"
      ]
     },
     "execution_count": 36,
     "metadata": {},
     "output_type": "execute_result"
    },
    {
     "data": {
      "image/png": "[encoded data removed]",
      "text/plain": [
       "<Figure size 640x480 with 1 Axes>"
      ]
     },
     "metadata": {},
     "output_type": "display_data"
    }
   ],
   "source": [
    "sns.boxplot(x=df[\"Insulin\"])"
   ]
  },
  {
   "cell_type": "markdown",
   "id": "77614384",
   "metadata": {},
   "source": [
    "### 5-BMI"
   ]
  },
  {
   "cell_type": "code",
   "execution_count": 37,
   "id": "bf20b8fe",
   "metadata": {},
   "outputs": [
    {
     "data": {
      "text/plain": [
       "<AxesSubplot:xlabel='BMI'>"
      ]
     },
     "execution_count": 37,
     "metadata": {},
     "output_type": "execute_result"
    },
    {
     "data": {
      "image/png": "[encoded data removed]",
      "text/plain": [
       "<Figure size 640x480 with 1 Axes>"
      ]
     },
     "metadata": {},
     "output_type": "display_data"
    }
   ],
   "source": [
    "sns.boxplot(x=df[\"BMI\"])"
   ]
  },
  {
   "cell_type": "code",
   "execution_count": 38,
   "id": "8365aa69",
   "metadata": {},
   "outputs": [
    {
     "name": "stdout",
     "output_type": "stream",
     "text": [
      "Q1 : 27.3\n",
      "Q2 : 32.0\n",
      "Q3 : 36.6\n",
      "Median : 32.0\n",
      "upper_tail : 50.550000000000004\n",
      "lower_tail : 13.35\n"
     ]
    }
   ],
   "source": [
    "q1 = df['BMI'].quantile(0.25)\n",
    "q2 = df['BMI'].quantile(0.50)\n",
    "q3 = df['BMI'].quantile(0.75)\n",
    "median = df['BMI'].median()\n",
    "\n",
    "iqr = q3 - q1\n",
    "\n",
    "upper_tail = q3 + 1.5 * iqr\n",
    "lower_tail = q1 - 1.5 * iqr\n",
    "\n",
    "print(\"Q1 :\", q1)\n",
    "print(\"Q2 :\", q2)\n",
    "print(\"Q3 :\", q3)\n",
    "print(\"Median :\",median)\n",
    "\n",
    "print(\"upper_tail :\", upper_tail)\n",
    "print(\"lower_tail :\", lower_tail)"
   ]
  },
  {
   "cell_type": "code",
   "execution_count": 39,
   "id": "4a666092",
   "metadata": {},
   "outputs": [
    {
     "data": {
      "text/plain": [
       "9       0.0\n",
       "49      0.0\n",
       "60      0.0\n",
       "81      0.0\n",
       "120    53.2\n",
       "125    55.0\n",
       "145     0.0\n",
       "177    67.1\n",
       "193    52.3\n",
       "247    52.3\n",
       "303    52.9\n",
       "371     0.0\n",
       "426     0.0\n",
       "445    59.4\n",
       "494     0.0\n",
       "522     0.0\n",
       "673    57.3\n",
       "684     0.0\n",
       "706     0.0\n",
       "Name: BMI, dtype: float64"
      ]
     },
     "execution_count": 39,
     "metadata": {},
     "output_type": "execute_result"
    }
   ],
   "source": [
    "df['BMI'].loc[(df['BMI'] > upper_tail) | (df['BMI'] < lower_tail)] "
   ]
  },
  {
   "cell_type": "code",
   "execution_count": 40,
   "id": "9a9be897",
   "metadata": {},
   "outputs": [],
   "source": [
    "df.loc[df['BMI'] < lower_tail, 'BMI'] = lower_tail\n",
    "df.loc[df['BMI'] > upper_tail, 'BMI'] = upper_tail\n"
   ]
  },
  {
   "cell_type": "code",
   "execution_count": 41,
   "id": "005a708f",
   "metadata": {},
   "outputs": [
    {
     "data": {
      "text/plain": [
       "<AxesSubplot:xlabel='BMI'>"
      ]
     },
     "execution_count": 41,
     "metadata": {},
     "output_type": "execute_result"
    },
    {
     "data": {
      "image/png": "[encoded data removed]",
      "text/plain": [
       "<Figure size 640x480 with 1 Axes>"
      ]
     },
     "metadata": {},
     "output_type": "display_data"
    }
   ],
   "source": [
    "sns.boxplot(x=df[\"BMI\"])"
   ]
  },
  {
   "cell_type": "markdown",
   "id": "3801a0f6",
   "metadata": {},
   "source": [
    "#### 5-DiabetesPedigreeFunction"
   ]
  },
  {
   "cell_type": "code",
   "execution_count": 42,
   "id": "eeedc98b",
   "metadata": {},
   "outputs": [
    {
     "data": {
      "text/plain": [
       "<AxesSubplot:xlabel='DiabetesPedigreeFunction'>"
      ]
     },
     "execution_count": 42,
     "metadata": {},
     "output_type": "execute_result"
    },
    {
     "data": {
      "image/png": "[encoded data removed]",
      "text/plain": [
       "<Figure size 640x480 with 1 Axes>"
      ]
     },
     "metadata": {},
     "output_type": "display_data"
    }
   ],
   "source": [
    "sns.boxplot(x=df[\"DiabetesPedigreeFunction\"])"
   ]
  },
  {
   "cell_type": "code",
   "execution_count": 43,
   "id": "b8bfd1b9",
   "metadata": {},
   "outputs": [
    {
     "name": "stdout",
     "output_type": "stream",
     "text": [
      "Q1 : 0.24375\n",
      "Q2 : 0.3725\n",
      "Q3 : 0.62625\n",
      "Median : 0.3725\n",
      "upper_tail : 1.2\n",
      "lower_tail : -0.32999999999999996\n"
     ]
    }
   ],
   "source": [
    "q1 = df['DiabetesPedigreeFunction'].quantile(0.25)\n",
    "q2 = df['DiabetesPedigreeFunction'].quantile(0.50)\n",
    "q3 = df['DiabetesPedigreeFunction'].quantile(0.75)\n",
    "median = df['DiabetesPedigreeFunction'].median()\n",
    "\n",
    "iqr = q3 - q1\n",
    "\n",
    "upper_tail = q3 + 1.5 * iqr\n",
    "lower_tail = q1 - 1.5 * iqr\n",
    "\n",
    "print(\"Q1 :\", q1)\n",
    "print(\"Q2 :\", q2)\n",
    "print(\"Q3 :\", q3)\n",
    "print(\"Median :\",median)\n",
    "\n",
    "print(\"upper_tail :\", upper_tail)\n",
    "print(\"lower_tail :\", lower_tail)"
   ]
  },
  {
   "cell_type": "code",
   "execution_count": 44,
   "id": "ba5141ae",
   "metadata": {},
   "outputs": [],
   "source": [
    "df['DiabetesPedigreeFunction'].loc[(df['DiabetesPedigreeFunction'] > upper_tail) | (df['DiabetesPedigreeFunction'] < lower_tail)] = 1.500000"
   ]
  },
  {
   "cell_type": "code",
   "execution_count": 45,
   "id": "bf4befeb",
   "metadata": {},
   "outputs": [
    {
     "data": {
      "text/plain": [
       "4      1.5\n",
       "12     1.5\n",
       "39     1.5\n",
       "45     1.5\n",
       "58     1.5\n",
       "100    1.5\n",
       "147    1.5\n",
       "187    1.5\n",
       "218    1.5\n",
       "228    1.5\n",
       "243    1.5\n",
       "245    1.5\n",
       "259    1.5\n",
       "292    1.5\n",
       "308    1.5\n",
       "330    1.5\n",
       "370    1.5\n",
       "371    1.5\n",
       "383    1.5\n",
       "395    1.5\n",
       "445    1.5\n",
       "534    1.5\n",
       "593    1.5\n",
       "606    1.5\n",
       "618    1.5\n",
       "621    1.5\n",
       "622    1.5\n",
       "659    1.5\n",
       "661    1.5\n",
       "Name: DiabetesPedigreeFunction, dtype: float64"
      ]
     },
     "execution_count": 45,
     "metadata": {},
     "output_type": "execute_result"
    }
   ],
   "source": [
    "df['DiabetesPedigreeFunction'].loc[(df['DiabetesPedigreeFunction'] > upper_tail) | (df['DiabetesPedigreeFunction'] < lower_tail)]"
   ]
  },
  {
   "cell_type": "code",
   "execution_count": 46,
   "id": "ac4900eb",
   "metadata": {},
   "outputs": [
    {
     "data": {
      "text/plain": [
       "<AxesSubplot:xlabel='DiabetesPedigreeFunction'>"
      ]
     },
     "execution_count": 46,
     "metadata": {},
     "output_type": "execute_result"
    },
    {
     "data": {
      "image/png": "[encoded data removed]",
      "text/plain": [
       "<Figure size 640x480 with 1 Axes>"
      ]
     },
     "metadata": {},
     "output_type": "display_data"
    }
   ],
   "source": [
    "sns.boxplot(x=df['DiabetesPedigreeFunction'])"
   ]
  },
  {
   "cell_type": "code",
   "execution_count": 47,
   "id": "188cd8fc",
   "metadata": {},
   "outputs": [
    {
     "name": "stdout",
     "output_type": "stream",
     "text": [
      "Q1 : 0.24375\n",
      "Q2 : 0.3725\n",
      "Q3 : 0.62625\n",
      "Median : 0.3725\n",
      "upper_tail : 1.2\n",
      "lower_tail : -0.32999999999999996\n"
     ]
    }
   ],
   "source": [
    "q1 = df['DiabetesPedigreeFunction'].quantile(0.25)\n",
    "q2 = df['DiabetesPedigreeFunction'].quantile(0.50)\n",
    "q3 = df['DiabetesPedigreeFunction'].quantile(0.75)\n",
    "median = df['DiabetesPedigreeFunction'].median()\n",
    "\n",
    "iqr = q3 - q1\n",
    "\n",
    "upper_tail = q3 + 1.5 * iqr\n",
    "lower_tail = q1 - 1.5 * iqr\n",
    "\n",
    "print(\"Q1 :\", q1)\n",
    "print(\"Q2 :\", q2)\n",
    "print(\"Q3 :\", q3)\n",
    "print(\"Median :\",median)\n",
    "\n",
    "print(\"upper_tail :\", upper_tail)\n",
    "print(\"lower_tail :\", lower_tail)"
   ]
  },
  {
   "cell_type": "code",
   "execution_count": 48,
   "id": "bd98a201",
   "metadata": {},
   "outputs": [],
   "source": [
    "df.loc[df['DiabetesPedigreeFunction'] > upper_tail, 'DiabetesPedigreeFunction'] = upper_tail\n"
   ]
  },
  {
   "cell_type": "code",
   "execution_count": 49,
   "id": "c7d9950b",
   "metadata": {},
   "outputs": [
    {
     "data": {
      "text/plain": [
       "<AxesSubplot:xlabel='DiabetesPedigreeFunction'>"
      ]
     },
     "execution_count": 49,
     "metadata": {},
     "output_type": "execute_result"
    },
    {
     "data": {
      "image/png": "[encoded data removed]",
      "text/plain": [
       "<Figure size 640x480 with 1 Axes>"
      ]
     },
     "metadata": {},
     "output_type": "display_data"
    }
   ],
   "source": [
    "sns.boxplot(x=df[\"DiabetesPedigreeFunction\"])"
   ]
  },
  {
   "cell_type": "code",
   "execution_count": 51,
   "id": "daf25684",
   "metadata": {},
   "outputs": [
    {
     "data": {
      "text/plain": [
       "<AxesSubplot:xlabel='Age'>"
      ]
     },
     "execution_count": 51,
     "metadata": {},
     "output_type": "execute_result"
    },
    {
     "data": {
      "image/png": "[encoded data removed]",
      "text/plain": [
       "<Figure size 640x480 with 1 Axes>"
      ]
     },
     "metadata": {},
     "output_type": "display_data"
    }
   ],
   "source": [
    "sns.boxplot(x=df[\"Age\"])"
   ]
  },
  {
   "cell_type": "code",
   "execution_count": 52,
   "id": "06d64069",
   "metadata": {},
   "outputs": [
    {
     "name": "stdout",
     "output_type": "stream",
     "text": [
      "Q1 : 24.0\n",
      "Q2 : 29.0\n",
      "Q3 : 36.6\n",
      "Median : 29.0\n",
      "upper_tail : 55.5\n",
      "lower_tail : 5.099999999999998\n"
     ]
    }
   ],
   "source": [
    "q1 = df[\"Age\"].quantile(0.25)\n",
    "q2 = df[\"Age\"].quantile(0.50)\n",
    "q3 = df['BMI'].quantile(0.75)\n",
    "median = df[\"Age\"].median()\n",
    "\n",
    "iqr = q3 - q1\n",
    "\n",
    "upper_tail = q3 + 1.5 * iqr\n",
    "lower_tail = q1 - 1.5 * iqr\n",
    "\n",
    "print(\"Q1 :\", q1)\n",
    "print(\"Q2 :\", q2)\n",
    "print(\"Q3 :\", q3)\n",
    "print(\"Median :\",median)\n",
    "\n",
    "print(\"upper_tail :\", upper_tail)\n",
    "print(\"lower_tail :\", lower_tail)"
   ]
  },
  {
   "cell_type": "code",
   "execution_count": 53,
   "id": "777a3956",
   "metadata": {},
   "outputs": [],
   "source": [
    "df.loc[df['Age'] > upper_tail, 'Age'] = upper_tail"
   ]
  },
  {
   "cell_type": "code",
   "execution_count": 54,
   "id": "041ca545",
   "metadata": {},
   "outputs": [
    {
     "data": {
      "text/plain": [
       "<AxesSubplot:xlabel='Age'>"
      ]
     },
     "execution_count": 54,
     "metadata": {},
     "output_type": "execute_result"
    },
    {
     "data": {
      "image/png": "[encoded data removed]",
      "text/plain": [
       "<Figure size 640x480 with 1 Axes>"
      ]
     },
     "metadata": {},
     "output_type": "display_data"
    }
   ],
   "source": [
    "sns.boxplot(x=df[\"Age\"])"
   ]
  },
  {
   "cell_type": "markdown",
   "id": "b6ca9f9c",
   "metadata": {},
   "source": [
    "# 5.feature selection"
   ]
  },
  {
   "cell_type": "code",
   "execution_count": 59,
   "id": "7546e82f",
   "metadata": {},
   "outputs": [],
   "source": [
    "x=df.drop(\"Outcome\",axis=1)\n",
    "y=df[\"Outcome\"]\n",
    "#x"
   ]
  },
  {
   "cell_type": "code",
   "execution_count": 57,
   "id": "5028d9da",
   "metadata": {},
   "outputs": [
    {
     "data": {
      "text/plain": [
       "0    500\n",
       "1    268\n",
       "Name: Outcome, dtype: int64"
      ]
     },
     "execution_count": 57,
     "metadata": {},
     "output_type": "execute_result"
    }
   ],
   "source": [
    "y.value_counts()"
   ]
  },
  {
   "cell_type": "code",
   "execution_count": 60,
   "id": "a006aebe",
   "metadata": {},
   "outputs": [
    {
     "data": {
      "text/plain": [
       "<AxesSubplot:xlabel='Outcome', ylabel='count'>"
      ]
     },
     "execution_count": 60,
     "metadata": {},
     "output_type": "execute_result"
    },
    {
     "data": {
      "image/png": "[encoded data removed]",
      "text/plain": [
       "<Figure size 640x480 with 1 Axes>"
      ]
     },
     "metadata": {},
     "output_type": "display_data"
    }
   ],
   "source": [
    "sns.countplot(x = df['Outcome'])"
   ]
  },
  {
   "cell_type": "code",
   "execution_count": 61,
   "id": "03cb3148",
   "metadata": {},
   "outputs": [],
   "source": [
    "# Train test split"
   ]
  },
  {
   "cell_type": "code",
   "execution_count": 62,
   "id": "f66fd52a",
   "metadata": {},
   "outputs": [
    {
     "data": {
      "text/html": [
       "<div>\n",
       "<style scoped>\n",
       "    .dataframe tbody tr th:only-of-type {\n",
       "        vertical-align: middle;\n",
       "    }\n",
       "\n",
       "    .dataframe tbody tr th {\n",
       "        vertical-align: top;\n",
       "    }\n",
       "\n",
       "    .dataframe thead th {\n",
       "        text-align: right;\n",
       "    }\n",
       "</style>\n",
       "<table border=\"1\" class=\"dataframe\">\n",
       "  <thead>\n",
       "    <tr style=\"text-align: right;\">\n",
       "      <th></th>\n",
       "      <th>Glucose</th>\n",
       "      <th>BloodPressure</th>\n",
       "      <th>SkinThickness</th>\n",
       "      <th>Insulin</th>\n",
       "      <th>BMI</th>\n",
       "      <th>DiabetesPedigreeFunction</th>\n",
       "      <th>Age</th>\n",
       "    </tr>\n",
       "  </thead>\n",
       "  <tbody>\n",
       "    <tr>\n",
       "      <th>745</th>\n",
       "      <td>100.0</td>\n",
       "      <td>84</td>\n",
       "      <td>33</td>\n",
       "      <td>105.0</td>\n",
       "      <td>30.0</td>\n",
       "      <td>0.488</td>\n",
       "      <td>46.0</td>\n",
       "    </tr>\n",
       "    <tr>\n",
       "      <th>67</th>\n",
       "      <td>109.0</td>\n",
       "      <td>92</td>\n",
       "      <td>0</td>\n",
       "      <td>0.0</td>\n",
       "      <td>42.7</td>\n",
       "      <td>0.845</td>\n",
       "      <td>54.0</td>\n",
       "    </tr>\n",
       "    <tr>\n",
       "      <th>570</th>\n",
       "      <td>78.0</td>\n",
       "      <td>70</td>\n",
       "      <td>0</td>\n",
       "      <td>0.0</td>\n",
       "      <td>32.5</td>\n",
       "      <td>0.270</td>\n",
       "      <td>39.0</td>\n",
       "    </tr>\n",
       "    <tr>\n",
       "      <th>517</th>\n",
       "      <td>125.0</td>\n",
       "      <td>86</td>\n",
       "      <td>0</td>\n",
       "      <td>0.0</td>\n",
       "      <td>37.6</td>\n",
       "      <td>0.304</td>\n",
       "      <td>51.0</td>\n",
       "    </tr>\n",
       "    <tr>\n",
       "      <th>717</th>\n",
       "      <td>94.0</td>\n",
       "      <td>72</td>\n",
       "      <td>18</td>\n",
       "      <td>0.0</td>\n",
       "      <td>23.1</td>\n",
       "      <td>0.595</td>\n",
       "      <td>55.5</td>\n",
       "    </tr>\n",
       "    <tr>\n",
       "      <th>...</th>\n",
       "      <td>...</td>\n",
       "      <td>...</td>\n",
       "      <td>...</td>\n",
       "      <td>...</td>\n",
       "      <td>...</td>\n",
       "      <td>...</td>\n",
       "      <td>...</td>\n",
       "    </tr>\n",
       "    <tr>\n",
       "      <th>735</th>\n",
       "      <td>95.0</td>\n",
       "      <td>60</td>\n",
       "      <td>32</td>\n",
       "      <td>0.0</td>\n",
       "      <td>35.4</td>\n",
       "      <td>0.284</td>\n",
       "      <td>28.0</td>\n",
       "    </tr>\n",
       "    <tr>\n",
       "      <th>475</th>\n",
       "      <td>137.0</td>\n",
       "      <td>84</td>\n",
       "      <td>27</td>\n",
       "      <td>0.0</td>\n",
       "      <td>27.3</td>\n",
       "      <td>0.231</td>\n",
       "      <td>55.5</td>\n",
       "    </tr>\n",
       "    <tr>\n",
       "      <th>46</th>\n",
       "      <td>146.0</td>\n",
       "      <td>56</td>\n",
       "      <td>0</td>\n",
       "      <td>0.0</td>\n",
       "      <td>29.7</td>\n",
       "      <td>0.564</td>\n",
       "      <td>29.0</td>\n",
       "    </tr>\n",
       "    <tr>\n",
       "      <th>767</th>\n",
       "      <td>93.0</td>\n",
       "      <td>70</td>\n",
       "      <td>31</td>\n",
       "      <td>0.0</td>\n",
       "      <td>30.4</td>\n",
       "      <td>0.315</td>\n",
       "      <td>23.0</td>\n",
       "    </tr>\n",
       "    <tr>\n",
       "      <th>540</th>\n",
       "      <td>100.0</td>\n",
       "      <td>74</td>\n",
       "      <td>40</td>\n",
       "      <td>215.0</td>\n",
       "      <td>39.4</td>\n",
       "      <td>0.661</td>\n",
       "      <td>43.0</td>\n",
       "    </tr>\n",
       "  </tbody>\n",
       "</table>\n",
       "<p>576 rows × 7 columns</p>\n",
       "</div>"
      ],
      "text/plain": [
       "     Glucose  BloodPressure  SkinThickness  Insulin   BMI  \\\n",
       "745    100.0             84             33    105.0  30.0   \n",
       "67     109.0             92              0      0.0  42.7   \n",
       "570     78.0             70              0      0.0  32.5   \n",
       "517    125.0             86              0      0.0  37.6   \n",
       "717     94.0             72             18      0.0  23.1   \n",
       "..       ...            ...            ...      ...   ...   \n",
       "735     95.0             60             32      0.0  35.4   \n",
       "475    137.0             84             27      0.0  27.3   \n",
       "46     146.0             56              0      0.0  29.7   \n",
       "767     93.0             70             31      0.0  30.4   \n",
       "540    100.0             74             40    215.0  39.4   \n",
       "\n",
       "     DiabetesPedigreeFunction   Age  \n",
       "745                     0.488  46.0  \n",
       "67                      0.845  54.0  \n",
       "570                     0.270  39.0  \n",
       "517                     0.304  51.0  \n",
       "717                     0.595  55.5  \n",
       "..                        ...   ...  \n",
       "735                     0.284  28.0  \n",
       "475                     0.231  55.5  \n",
       "46                      0.564  29.0  \n",
       "767                     0.315  23.0  \n",
       "540                     0.661  43.0  \n",
       "\n",
       "[576 rows x 7 columns]"
      ]
     },
     "execution_count": 62,
     "metadata": {},
     "output_type": "execute_result"
    }
   ],
   "source": [
    "x_train,x_test,y_train,y_test=train_test_split(x,y,test_size=0.25,random_state=10,stratify=y)\n",
    "\n",
    "x_train"
   ]
  },
  {
   "cell_type": "markdown",
   "id": "0a40a5b1",
   "metadata": {},
   "source": [
    "# Model Building"
   ]
  },
  {
   "cell_type": "code",
   "execution_count": 65,
   "id": "8a9e8eb8",
   "metadata": {},
   "outputs": [
    {
     "data": {
      "text/plain": [
       "LogisticRegression()"
      ]
     },
     "execution_count": 65,
     "metadata": {},
     "output_type": "execute_result"
    }
   ],
   "source": [
    "model=LogisticRegression()\n",
    "model.fit(x_train,y_train)"
   ]
  },
  {
   "cell_type": "code",
   "execution_count": null,
   "id": "de11532b",
   "metadata": {},
   "outputs": [],
   "source": []
  },
  {
   "cell_type": "code",
   "execution_count": 66,
   "id": "91914492",
   "metadata": {},
   "outputs": [
    {
     "name": "stdout",
     "output_type": "stream",
     "text": [
      "Confusion Matrix:\n",
      " [[109  23]\n",
      " [ 16  44]]\n",
      "\n",
      "Accuracy:\n",
      " 0.796875\n",
      "\n",
      "Classification report:\n",
      "               precision    recall  f1-score   support\n",
      "\n",
      "           0       0.87      0.83      0.85       132\n",
      "           1       0.66      0.73      0.69        60\n",
      "\n",
      "    accuracy                           0.80       192\n",
      "   macro avg       0.76      0.78      0.77       192\n",
      "weighted avg       0.80      0.80      0.80       192\n",
      "\n"
     ]
    }
   ],
   "source": [
    "y_pred=model.predict(x_test)\n",
    "cnf_matrix=confusion_matrix(y_pred,y_test)\n",
    "accuracy=accuracy_score(y_pred,y_test)\n",
    "clf_report=classification_report(y_pred,y_test)\n",
    "print(\"Confusion Matrix:\\n\",cnf_matrix)\n",
    "print()\n",
    "print(\"Accuracy:\\n\",accuracy)\n",
    "print()\n",
    "print(\"Classification report:\\n\",clf_report)"
   ]
  },
  {
   "cell_type": "code",
   "execution_count": 68,
   "id": "f7012e0b",
   "metadata": {},
   "outputs": [
    {
     "name": "stdout",
     "output_type": "stream",
     "text": [
      "Confusion Matrix:\n",
      " [[325  86]\n",
      " [ 50 115]]\n",
      "**************************************************\n",
      "Accuracy:\n",
      " 0.7638888888888888\n",
      "**************************************************\n",
      "Classification report:\n",
      "               precision    recall  f1-score   support\n",
      "\n",
      "           0       0.87      0.79      0.83       411\n",
      "           1       0.57      0.70      0.63       165\n",
      "\n",
      "    accuracy                           0.76       576\n",
      "   macro avg       0.72      0.74      0.73       576\n",
      "weighted avg       0.78      0.76      0.77       576\n",
      "\n"
     ]
    }
   ],
   "source": [
    "# Training accuracy\n",
    "y_pred_train=model.predict(x_train)\n",
    "cnf_matrix=confusion_matrix(y_pred_train,y_train)\n",
    "accuracy=accuracy_score(y_pred_train,y_train)\n",
    "clf_report=classification_report(y_pred_train,y_train)\n",
    "print(\"Confusion Matrix:\\n\",cnf_matrix)\n",
    "print(\"*\"*50)\n",
    "print(\"Accuracy:\\n\",accuracy)\n",
    "print(\"*\"*50)\n",
    "print(\"Classification report:\\n\",clf_report)"
   ]
  },
  {
   "cell_type": "code",
   "execution_count": 67,
   "id": "04fd28b4",
   "metadata": {},
   "outputs": [
    {
     "data": {
      "text/plain": [
       "<sklearn.metrics._plot.confusion_matrix.ConfusionMatrixDisplay at 0x1f2c3b94c70>"
      ]
     },
     "execution_count": 67,
     "metadata": {},
     "output_type": "execute_result"
    },
    {
     "data": {
      "image/png": "[encoded data removed]",
      "text/plain": [
       "<Figure size 640x480 with 2 Axes>"
      ]
     },
     "metadata": {},
     "output_type": "display_data"
    }
   ],
   "source": [
    "plot_confusion_matrix(model,x_test,y_test)"
   ]
  },
  {
   "cell_type": "markdown",
   "id": "9a03e8d0",
   "metadata": {},
   "source": [
    "# AUC and ROC Curve"
   ]
  },
  {
   "cell_type": "code",
   "execution_count": 72,
   "id": "47cc1b12",
   "metadata": {},
   "outputs": [],
   "source": [
    "y_pred_prob = model.predict_proba(x_train)  \n",
    "y_pred_prob[:,1]\n",
    "\n",
    "\n",
    "fpr, tpr, thresh = roc_curve(y_train, y_pred_prob[:,1])\n"
   ]
  },
  {
   "cell_type": "code",
   "execution_count": 73,
   "id": "7af72266",
   "metadata": {},
   "outputs": [
    {
     "data": {
      "text/plain": [
       "array([1.9758471 , 0.9758471 , 0.97258977, 0.91821448, 0.91048069,\n",
       "       0.86878733, 0.86787179, 0.86558019, 0.86502727, 0.83097   ,\n",
       "       0.8264737 , 0.82100748, 0.81695795, 0.80624395, 0.80245253,\n",
       "       0.7928553 , 0.79159499, 0.787415  , 0.78622624, 0.78071896,\n",
       "       0.77658734, 0.76801258, 0.75878787, 0.74883637, 0.74403076,\n",
       "       0.73028188, 0.72135243, 0.71192859, 0.70350755, 0.6951388 ,\n",
       "       0.69176169, 0.68035937, 0.67486018, 0.67377016, 0.66906561,\n",
       "       0.66018423, 0.64209578, 0.63446298, 0.6336043 , 0.62313976,\n",
       "       0.61639675, 0.61466501, 0.6134813 , 0.60321657, 0.5991473 ,\n",
       "       0.59575771, 0.58625366, 0.5845236 , 0.58410869, 0.583464  ,\n",
       "       0.58323968, 0.57342173, 0.57230529, 0.56968943, 0.56869329,\n",
       "       0.56844637, 0.56781399, 0.5673875 , 0.55951567, 0.54613376,\n",
       "       0.5397373 , 0.53037225, 0.5293914 , 0.52933067, 0.52861231,\n",
       "       0.51910855, 0.51874729, 0.51863162, 0.50929592, 0.50608372,\n",
       "       0.50373459, 0.49722899, 0.49430888, 0.48263111, 0.47053254,\n",
       "       0.4624753 , 0.4537588 , 0.44259453, 0.44169439, 0.44020837,\n",
       "       0.4398654 , 0.43840219, 0.43162577, 0.43146205, 0.4301983 ,\n",
       "       0.4287868 , 0.4050592 , 0.4047667 , 0.4013713 , 0.39909142,\n",
       "       0.39521426, 0.38687478, 0.38242115, 0.38230912, 0.3772881 ,\n",
       "       0.37713403, 0.37626819, 0.3717893 , 0.37098596, 0.37019936,\n",
       "       0.36939365, 0.36804601, 0.36564217, 0.36430123, 0.35664291,\n",
       "       0.35634156, 0.34485138, 0.34252746, 0.3409693 , 0.3349639 ,\n",
       "       0.33175125, 0.32985659, 0.32805477, 0.32604579, 0.31988749,\n",
       "       0.31914258, 0.31897943, 0.31774651, 0.31690127, 0.31671401,\n",
       "       0.31368289, 0.31308094, 0.31041903, 0.30905711, 0.30646827,\n",
       "       0.30386433, 0.30201607, 0.29811542, 0.29480557, 0.29310177,\n",
       "       0.28793483, 0.28577105, 0.28572612, 0.28355953, 0.28079252,\n",
       "       0.28057996, 0.27729015, 0.27585079, 0.27498518, 0.26834096,\n",
       "       0.26486654, 0.26283721, 0.25923036, 0.25813776, 0.24760748,\n",
       "       0.24659456, 0.24445943, 0.23796263, 0.23742692, 0.23720503,\n",
       "       0.23275497, 0.2323575 , 0.22533774, 0.22514175, 0.22042626,\n",
       "       0.21810388, 0.20926793, 0.20923768, 0.20871697, 0.20582911,\n",
       "       0.1998378 , 0.19931119, 0.19415498, 0.1935133 , 0.19236884,\n",
       "       0.19001992, 0.18983784, 0.18972732, 0.18432672, 0.1831633 ,\n",
       "       0.17510672, 0.17288532, 0.17180691, 0.17044256, 0.16439198,\n",
       "       0.16324593, 0.16190074, 0.16109875, 0.16010152, 0.15842765,\n",
       "       0.14562692, 0.1453931 , 0.14265846, 0.142651  , 0.14231652,\n",
       "       0.1412108 , 0.12859572, 0.12830799, 0.12677754, 0.12676498,\n",
       "       0.11936803, 0.11897935, 0.08187408, 0.08101076, 0.05204771,\n",
       "       0.05176148, 0.00680153])"
      ]
     },
     "execution_count": 73,
     "metadata": {},
     "output_type": "execute_result"
    }
   ],
   "source": [
    "thresh"
   ]
  },
  {
   "cell_type": "code",
   "execution_count": 74,
   "id": "a58ab5f1",
   "metadata": {},
   "outputs": [
    {
     "data": {
      "text/plain": [
       "Text(0.5, 1.0, 'Reciever Operating Characteristics Curve')"
      ]
     },
     "execution_count": 74,
     "metadata": {},
     "output_type": "execute_result"
    },
    {
     "data": {
      "image/png": "[encoded data removed]",
      "text/plain": [
       "<Figure size 640x480 with 1 Axes>"
      ]
     },
     "metadata": {},
     "output_type": "display_data"
    }
   ],
   "source": [
    "plt.plot(fpr, tpr)\n",
    "\n",
    "plt.xlabel(\"False positive rate (FPR) -->\")\n",
    "plt.ylabel(\"True positive rate (TPR) -->\")\n",
    "plt.title(\"Reciever Operating Characteristics Curve\")"
   ]
  },
  {
   "cell_type": "code",
   "execution_count": 75,
   "id": "de21077c",
   "metadata": {},
   "outputs": [
    {
     "data": {
      "text/html": [
       "<div>\n",
       "<style scoped>\n",
       "    .dataframe tbody tr th:only-of-type {\n",
       "        vertical-align: middle;\n",
       "    }\n",
       "\n",
       "    .dataframe tbody tr th {\n",
       "        vertical-align: top;\n",
       "    }\n",
       "\n",
       "    .dataframe thead th {\n",
       "        text-align: right;\n",
       "    }\n",
       "</style>\n",
       "<table border=\"1\" class=\"dataframe\">\n",
       "  <thead>\n",
       "    <tr style=\"text-align: right;\">\n",
       "      <th></th>\n",
       "      <th>0.5</th>\n",
       "      <th>0.6</th>\n",
       "      <th>0.7</th>\n",
       "      <th>0.8</th>\n",
       "      <th>0.9</th>\n",
       "    </tr>\n",
       "  </thead>\n",
       "  <tbody>\n",
       "    <tr>\n",
       "      <th>Accuracy</th>\n",
       "      <td>0.796875</td>\n",
       "      <td>0.802083</td>\n",
       "      <td>0.796875</td>\n",
       "      <td>0.723958</td>\n",
       "      <td>0.677083</td>\n",
       "    </tr>\n",
       "    <tr>\n",
       "      <th>recall</th>\n",
       "      <td>0.656716</td>\n",
       "      <td>0.567164</td>\n",
       "      <td>0.507463</td>\n",
       "      <td>0.268657</td>\n",
       "      <td>0.104478</td>\n",
       "    </tr>\n",
       "    <tr>\n",
       "      <th>Precision</th>\n",
       "      <td>0.733333</td>\n",
       "      <td>0.808511</td>\n",
       "      <td>0.850000</td>\n",
       "      <td>0.818182</td>\n",
       "      <td>0.777778</td>\n",
       "    </tr>\n",
       "    <tr>\n",
       "      <th>F1-Score</th>\n",
       "      <td>0.692913</td>\n",
       "      <td>0.666667</td>\n",
       "      <td>0.635514</td>\n",
       "      <td>0.404494</td>\n",
       "      <td>0.184211</td>\n",
       "    </tr>\n",
       "  </tbody>\n",
       "</table>\n",
       "</div>"
      ],
      "text/plain": [
       "                0.5       0.6       0.7       0.8       0.9\n",
       "Accuracy   0.796875  0.802083  0.796875  0.723958  0.677083\n",
       "recall     0.656716  0.567164  0.507463  0.268657  0.104478\n",
       "Precision  0.733333  0.808511  0.850000  0.818182  0.777778\n",
       "F1-Score   0.692913  0.666667  0.635514  0.404494  0.184211"
      ]
     },
     "execution_count": 75,
     "metadata": {},
     "output_type": "execute_result"
    }
   ],
   "source": [
    "threshold = [0.5, 0.6, 0.7, 0.8,0.9]\n",
    "\n",
    "df = pd.DataFrame()\n",
    "\n",
    "for i in  threshold:\n",
    "    preds = (model.predict_proba(x_test)[:,1] > i).astype(int)\n",
    "\n",
    "    df1 = pd.DataFrame(data=[accuracy_score(y_test, preds), recall_score(y_test, preds), precision_score(y_test, preds), f1_score(y_test, preds)],\n",
    "                index=[\"Accuracy\", \"recall\", \"Precision\", \"F1-Score\"])\n",
    "    \n",
    "    df = pd.concat([df,df1], axis = 1)\n",
    "    \n",
    "df.columns = threshold\n",
    "df"
   ]
  },
  {
   "cell_type": "code",
   "execution_count": 78,
   "id": "2a87c546",
   "metadata": {},
   "outputs": [
    {
     "data": {
      "text/plain": [
       "0.8309651741293533"
      ]
     },
     "execution_count": 78,
     "metadata": {},
     "output_type": "execute_result"
    }
   ],
   "source": [
    "auc_value = auc(fpr, tpr)\n",
    "auc_value"
   ]
  },
  {
   "cell_type": "code",
   "execution_count": 76,
   "id": "52787806",
   "metadata": {},
   "outputs": [
    {
     "data": {
      "text/plain": [
       "70"
      ]
     },
     "execution_count": 76,
     "metadata": {},
     "output_type": "execute_result"
    }
   ],
   "source": [
    "np.where(thresh >= 0.499999)[0][-1]"
   ]
  },
  {
   "cell_type": "code",
   "execution_count": 77,
   "id": "f6e914e1",
   "metadata": {},
   "outputs": [
    {
     "data": {
      "text/plain": [
       "0.572139303482587"
      ]
     },
     "execution_count": 77,
     "metadata": {},
     "output_type": "execute_result"
    }
   ],
   "source": [
    "tpr[70] "
   ]
  },
  {
   "cell_type": "code",
   "execution_count": 79,
   "id": "b1aa5ddd",
   "metadata": {},
   "outputs": [
    {
     "data": {
      "text/html": [
       "<div>\n",
       "<style scoped>\n",
       "    .dataframe tbody tr th:only-of-type {\n",
       "        vertical-align: middle;\n",
       "    }\n",
       "\n",
       "    .dataframe tbody tr th {\n",
       "        vertical-align: top;\n",
       "    }\n",
       "\n",
       "    .dataframe thead th {\n",
       "        text-align: right;\n",
       "    }\n",
       "</style>\n",
       "<table border=\"1\" class=\"dataframe\">\n",
       "  <thead>\n",
       "    <tr style=\"text-align: right;\">\n",
       "      <th></th>\n",
       "      <th>0</th>\n",
       "    </tr>\n",
       "  </thead>\n",
       "  <tbody>\n",
       "    <tr>\n",
       "      <th>Glucose</th>\n",
       "      <td>148.000</td>\n",
       "    </tr>\n",
       "    <tr>\n",
       "      <th>BloodPressure</th>\n",
       "      <td>50.000</td>\n",
       "    </tr>\n",
       "    <tr>\n",
       "      <th>SkinThickness</th>\n",
       "      <td>35.000</td>\n",
       "    </tr>\n",
       "    <tr>\n",
       "      <th>Insulin</th>\n",
       "      <td>0.000</td>\n",
       "    </tr>\n",
       "    <tr>\n",
       "      <th>BMI</th>\n",
       "      <td>33.600</td>\n",
       "    </tr>\n",
       "    <tr>\n",
       "      <th>DiabetesPedigreeFunction</th>\n",
       "      <td>0.627</td>\n",
       "    </tr>\n",
       "    <tr>\n",
       "      <th>Age</th>\n",
       "      <td>50.000</td>\n",
       "    </tr>\n",
       "  </tbody>\n",
       "</table>\n",
       "</div>"
      ],
      "text/plain": [
       "                                0\n",
       "Glucose                   148.000\n",
       "BloodPressure              50.000\n",
       "SkinThickness              35.000\n",
       "Insulin                     0.000\n",
       "BMI                        33.600\n",
       "DiabetesPedigreeFunction    0.627\n",
       "Age                        50.000"
      ]
     },
     "execution_count": 79,
     "metadata": {},
     "output_type": "execute_result"
    }
   ],
   "source": [
    "x.head(1).T"
   ]
  },
  {
   "cell_type": "code",
   "execution_count": 80,
   "id": "1c2a9f0d",
   "metadata": {},
   "outputs": [],
   "source": [
    "column_names=x.columns"
   ]
  },
  {
   "cell_type": "code",
   "execution_count": 81,
   "id": "904469c7",
   "metadata": {},
   "outputs": [],
   "source": [
    "with open(\"logestic_model.pkl\",\"wb\") as f:\n",
    "    pickle.dump(model,f)"
   ]
  },
  {
   "cell_type": "code",
   "execution_count": 82,
   "id": "4f0fcbe3",
   "metadata": {},
   "outputs": [
    {
     "data": {
      "text/plain": [
       "{'columns': ['Glucose',\n",
       "  'BloodPressure',\n",
       "  'SkinThickness',\n",
       "  'Insulin',\n",
       "  'BMI',\n",
       "  'DiabetesPedigreeFunction',\n",
       "  'Age']}"
      ]
     },
     "execution_count": 82,
     "metadata": {},
     "output_type": "execute_result"
    }
   ],
   "source": [
    "json_data={\"columns\":list(column_names)}\n",
    "json_data"
   ]
  },
  {
   "cell_type": "code",
   "execution_count": 83,
   "id": "64d1489a",
   "metadata": {},
   "outputs": [],
   "source": [
    "with open(\"project_data.json\",\"w\") as f:\n",
    "    json.dump(json_data,f)"
   ]
  },
  {
   "cell_type": "markdown",
   "id": "37d28de0",
   "metadata": {},
   "source": [
    "# User inputs"
   ]
  },
  {
   "cell_type": "code",
   "execution_count": 84,
   "id": "1a424556",
   "metadata": {},
   "outputs": [],
   "source": [
    "Glucose=148.000\n",
    "BloodPressure=50.000\n",
    "SkinThickness=35.000\n",
    "Insulin=0.000\n",
    "BMI=33.600\n",
    "DiabetesPedigreeFunction=0.627\n",
    "Age=50.000"
   ]
  },
  {
   "cell_type": "code",
   "execution_count": 85,
   "id": "79554333",
   "metadata": {},
   "outputs": [
    {
     "data": {
      "text/plain": [
       "['Glucose',\n",
       " 'BloodPressure',\n",
       " 'SkinThickness',\n",
       " 'Insulin',\n",
       " 'BMI',\n",
       " 'DiabetesPedigreeFunction',\n",
       " 'Age']"
      ]
     },
     "execution_count": 85,
     "metadata": {},
     "output_type": "execute_result"
    }
   ],
   "source": [
    "json_data[\"columns\"]"
   ]
  },
  {
   "cell_type": "code",
   "execution_count": 86,
   "id": "a5580579",
   "metadata": {},
   "outputs": [],
   "source": [
    "\n",
    "\n",
    "test_array=np.zeros(len(column_names))\n",
    "test_array[0]=Glucose\n",
    "test_array[1]=BloodPressure\n",
    "test_array[2]=SkinThickness\n",
    "test_array[3]=Insulin\n",
    "test_array[4]=BMI\n",
    "test_array[5]=DiabetesPedigreeFunction\n",
    "test_array[6]=Age"
   ]
  },
  {
   "cell_type": "code",
   "execution_count": 87,
   "id": "de438b33",
   "metadata": {},
   "outputs": [
    {
     "name": "stdout",
     "output_type": "stream",
     "text": [
      "Yes,You are diabetic patient\n"
     ]
    }
   ],
   "source": [
    "value=round(model.predict([test_array])[0],2)\n",
    "if value==1:\n",
    "    print(\"Yes,You are diabetic patient\")\n",
    "else:\n",
    "    print(\"Dont Worry,you are away from diabetic\")\n",
    "#print(\"Predicted medical insurance is:\",charges,\"/- Rs only\")"
   ]
  },
  {
   "cell_type": "code",
   "execution_count": null,
   "id": "7e66c98d",
   "metadata": {},
   "outputs": [],
   "source": []
  }
 ],
 "metadata": {
  "kernelspec": {
   "display_name": "Python 3 (ipykernel)",
   "language": "python",
   "name": "python3"
  },
  "language_info": {
   "codemirror_mode": {
    "name": "ipython",
    "version": 3
   },
   "file_extension": ".py",
   "mimetype": "text/x-python",
   "name": "python",
   "nbconvert_exporter": "python",
   "pygments_lexer": "ipython3",
   "version": "3.9.13"
  }
 },
 "nbformat": 4,
 "nbformat_minor": 5
}
